{
 "cells": [
  {
   "cell_type": "code",
   "execution_count": 1,
   "metadata": {
    "scrolled": false
   },
   "outputs": [
    {
     "data": {
      "text/html": [
       "<div>\n",
       "<style scoped>\n",
       "    .dataframe tbody tr th:only-of-type {\n",
       "        vertical-align: middle;\n",
       "    }\n",
       "\n",
       "    .dataframe tbody tr th {\n",
       "        vertical-align: top;\n",
       "    }\n",
       "\n",
       "    .dataframe thead th {\n",
       "        text-align: right;\n",
       "    }\n",
       "</style>\n",
       "<table border=\"1\" class=\"dataframe\">\n",
       "  <thead>\n",
       "    <tr style=\"text-align: right;\">\n",
       "      <th></th>\n",
       "      <th>article_name</th>\n",
       "      <th>article_publisher</th>\n",
       "      <th>article_date</th>\n",
       "      <th>article_content</th>\n",
       "      <th>article_link</th>\n",
       "    </tr>\n",
       "  </thead>\n",
       "  <tbody>\n",
       "    <tr>\n",
       "      <th>0</th>\n",
       "      <td>New York Times: Mueller adds obstruction charg...</td>\n",
       "      <td>Brian Bonner</td>\n",
       "      <td>2018-06-08</td>\n",
       "      <td>WASHINGTON — The special counsel, Robert S. M...</td>\n",
       "      <td>https://www.kyivpost.com/ukraine-politics/new-...</td>\n",
       "    </tr>\n",
       "    <tr>\n",
       "      <th>1</th>\n",
       "      <td>Washington Post: Trump calls for Russia to be ...</td>\n",
       "      <td>Washington Post</td>\n",
       "      <td>2018-06-08</td>\n",
       "      <td>President Trump on June 8 said Russia should ...</td>\n",
       "      <td>https://www.kyivpost.com/world/washington-post...</td>\n",
       "    </tr>\n",
       "    <tr>\n",
       "      <th>2</th>\n",
       "      <td>Poroshenko will be invited to NATO Summit on J...</td>\n",
       "      <td>Iryna Somer</td>\n",
       "      <td>2018-06-08</td>\n",
       "      <td>BRUSSELS — Ukrainian President Petro Poroshen...</td>\n",
       "      <td>https://www.kyivpost.com/ukraine-politics/poro...</td>\n",
       "    </tr>\n",
       "    <tr>\n",
       "      <th>3</th>\n",
       "      <td>New York Times: Trump attends G-7 with defianc...</td>\n",
       "      <td>New York Times</td>\n",
       "      <td>2018-06-08</td>\n",
       "      <td>President Trump arrived in Canada on June 8 w...</td>\n",
       "      <td>https://www.kyivpost.com/world/new-york-times-...</td>\n",
       "    </tr>\n",
       "    <tr>\n",
       "      <th>4</th>\n",
       "      <td>Euronews: Russian-designed nuclear power plant...</td>\n",
       "      <td>Euronews</td>\n",
       "      <td>2018-06-08</td>\n",
       "      <td>Bulgaria is set to restart construction of a ...</td>\n",
       "      <td>https://www.kyivpost.com/russia/euronews-russi...</td>\n",
       "    </tr>\n",
       "    <tr>\n",
       "      <th>5</th>\n",
       "      <td>Hromadske International: Inside the Arctic Rus...</td>\n",
       "      <td>Hromadske International</td>\n",
       "      <td>2018-06-08</td>\n",
       "      <td>In March Hromadske and Oleg Sentsov’s cousin ...</td>\n",
       "      <td>https://www.kyivpost.com/ukraine-politics/hrom...</td>\n",
       "    </tr>\n",
       "    <tr>\n",
       "      <th>6</th>\n",
       "      <td>Ukrainian Weekly: Canadian Group for Democracy...</td>\n",
       "      <td>The Ukrainian Weekly</td>\n",
       "      <td>2018-06-08</td>\n",
       "      <td>Following is the text of the letter sent on M...</td>\n",
       "      <td>https://www.kyivpost.com/ukraine-politics/ukra...</td>\n",
       "    </tr>\n",
       "    <tr>\n",
       "      <th>7</th>\n",
       "      <td>Poroshenko: Prisoners’ release to be priority ...</td>\n",
       "      <td>Interfax-Ukraine</td>\n",
       "      <td>2018-06-08</td>\n",
       "      <td>Ukrainian President Petro Poroshenko has anno...</td>\n",
       "      <td>https://www.kyivpost.com/ukraine-politics/poro...</td>\n",
       "    </tr>\n",
       "    <tr>\n",
       "      <th>8</th>\n",
       "      <td>UNIAN: Ukraine suggests real reason behind Rus...</td>\n",
       "      <td>UNIAN</td>\n",
       "      <td>2018-06-08</td>\n",
       "      <td>Meanwhile, Russian officials claim the ships ...</td>\n",
       "      <td>https://www.kyivpost.com/russia/unian-ukraine-...</td>\n",
       "    </tr>\n",
       "    <tr>\n",
       "      <th>9</th>\n",
       "      <td>112.ua: Poroshenko supports cancellation of co...</td>\n",
       "      <td>112.ua</td>\n",
       "      <td>2018-06-08</td>\n",
       "      <td>Petro Poroshenko, the President of Ukraine, s...</td>\n",
       "      <td>https://www.kyivpost.com/ukraine-politics/112-...</td>\n",
       "    </tr>\n",
       "    <tr>\n",
       "      <th>10</th>\n",
       "      <td>Associated Press: Romania’s measles outbreak k...</td>\n",
       "      <td>Associated Press</td>\n",
       "      <td>2018-06-08</td>\n",
       "      <td>An outbreak of measles in Romania has killed ...</td>\n",
       "      <td>https://www.kyivpost.com/world/associated-pres...</td>\n",
       "    </tr>\n",
       "    <tr>\n",
       "      <th>11</th>\n",
       "      <td>Newsweek: US demands Russian forces leave Ukra...</td>\n",
       "      <td>Newsweek</td>\n",
       "      <td>2018-06-08</td>\n",
       "      <td>The U.S. has urged Russia to withdraw from ea...</td>\n",
       "      <td>https://www.kyivpost.com/ukraine-politics/news...</td>\n",
       "    </tr>\n",
       "  </tbody>\n",
       "</table>\n",
       "</div>"
      ],
      "text/plain": [
       "                                         article_name  \\\n",
       "0   New York Times: Mueller adds obstruction charg...   \n",
       "1   Washington Post: Trump calls for Russia to be ...   \n",
       "2   Poroshenko will be invited to NATO Summit on J...   \n",
       "3   New York Times: Trump attends G-7 with defianc...   \n",
       "4   Euronews: Russian-designed nuclear power plant...   \n",
       "5   Hromadske International: Inside the Arctic Rus...   \n",
       "6   Ukrainian Weekly: Canadian Group for Democracy...   \n",
       "7   Poroshenko: Prisoners’ release to be priority ...   \n",
       "8   UNIAN: Ukraine suggests real reason behind Rus...   \n",
       "9   112.ua: Poroshenko supports cancellation of co...   \n",
       "10  Associated Press: Romania’s measles outbreak k...   \n",
       "11  Newsweek: US demands Russian forces leave Ukra...   \n",
       "\n",
       "          article_publisher article_date  \\\n",
       "0              Brian Bonner   2018-06-08   \n",
       "1           Washington Post   2018-06-08   \n",
       "2               Iryna Somer   2018-06-08   \n",
       "3            New York Times   2018-06-08   \n",
       "4                  Euronews   2018-06-08   \n",
       "5   Hromadske International   2018-06-08   \n",
       "6      The Ukrainian Weekly   2018-06-08   \n",
       "7          Interfax-Ukraine   2018-06-08   \n",
       "8                     UNIAN   2018-06-08   \n",
       "9                    112.ua   2018-06-08   \n",
       "10         Associated Press   2018-06-08   \n",
       "11                 Newsweek   2018-06-08   \n",
       "\n",
       "                                      article_content  \\\n",
       "0    WASHINGTON — The special counsel, Robert S. M...   \n",
       "1    President Trump on June 8 said Russia should ...   \n",
       "2    BRUSSELS — Ukrainian President Petro Poroshen...   \n",
       "3    President Trump arrived in Canada on June 8 w...   \n",
       "4    Bulgaria is set to restart construction of a ...   \n",
       "5    In March Hromadske and Oleg Sentsov’s cousin ...   \n",
       "6    Following is the text of the letter sent on M...   \n",
       "7    Ukrainian President Petro Poroshenko has anno...   \n",
       "8    Meanwhile, Russian officials claim the ships ...   \n",
       "9    Petro Poroshenko, the President of Ukraine, s...   \n",
       "10   An outbreak of measles in Romania has killed ...   \n",
       "11   The U.S. has urged Russia to withdraw from ea...   \n",
       "\n",
       "                                         article_link  \n",
       "0   https://www.kyivpost.com/ukraine-politics/new-...  \n",
       "1   https://www.kyivpost.com/world/washington-post...  \n",
       "2   https://www.kyivpost.com/ukraine-politics/poro...  \n",
       "3   https://www.kyivpost.com/world/new-york-times-...  \n",
       "4   https://www.kyivpost.com/russia/euronews-russi...  \n",
       "5   https://www.kyivpost.com/ukraine-politics/hrom...  \n",
       "6   https://www.kyivpost.com/ukraine-politics/ukra...  \n",
       "7   https://www.kyivpost.com/ukraine-politics/poro...  \n",
       "8   https://www.kyivpost.com/russia/unian-ukraine-...  \n",
       "9   https://www.kyivpost.com/ukraine-politics/112-...  \n",
       "10  https://www.kyivpost.com/world/associated-pres...  \n",
       "11  https://www.kyivpost.com/ukraine-politics/news...  "
      ]
     },
     "execution_count": 1,
     "metadata": {},
     "output_type": "execute_result"
    }
   ],
   "source": [
    "import pandas as pd\n",
    "from pandas import *\n",
    "import numpy as np\n",
    "import csv\n",
    "import nltk\n",
    "\n",
    "data = pd.read_excel('articles May 09-June 08.xlsx')\n",
    "data.columns = ['article_name', 'article_publisher', 'article_date', 'article_content', 'article_link']\n",
    "data.head(12)"
   ]
  },
  {
   "cell_type": "code",
   "execution_count": 2,
   "metadata": {},
   "outputs": [],
   "source": [
    "articlesss_text = list(data.article_content)\n",
    "articles_names = list(data.article_name)"
   ]
  },
  {
   "cell_type": "code",
   "execution_count": 3,
   "metadata": {},
   "outputs": [],
   "source": [
    "#articlesss_text"
   ]
  },
  {
   "cell_type": "code",
   "execution_count": 4,
   "metadata": {
    "scrolled": true
   },
   "outputs": [],
   "source": [
    "#print(set(data.article_publisher))"
   ]
  },
  {
   "cell_type": "code",
   "execution_count": 5,
   "metadata": {},
   "outputs": [],
   "source": [
    "STOP_WORDS_ARR = ['a','about','above','after','again','against','all','am','an','and','any',\n",
    "'are',\"aren't\",'as','at','although','always','among','another','also',\n",
    "'be','because','been','before','being','below','between','both','but','by',\n",
    "\"can't\",'cannot','could',\"couldn't\",\n",
    "'did',\"didn't\",'do','does',\"doesn't\",'doing',\"don't\",'down','during','due',\n",
    "'each','either','enough','especially','etc','\\xa0',\n",
    "'few','for','from','further',\n",
    "'had',\"hadn't\",'has',\"hasn't\",'have',\"haven't\",'having','he',\"he'd\",'however',\"hasn\",\n",
    "\"he'll\",\"he's\",'her','here',\"here's\",'hers','herself','him','himself','his','how',\"how's\",'however',\n",
    "'i',\"i'd\",\"i'll\",\"i'm\",\"i've\",\n",
    "'if','in','into','is',\"isn't\",'it',\"it's\",'its','itself',\n",
    "\"let's\",\n",
    "'just','read','russian',\n",
    "'km','kg',\n",
    "'me','more','most',\"mustn't\",'my','myself','may','mostly','mainly','mm','ml',\n",
    "'no','nor','not','nearly','neither',\n",
    "'of','off','on','once','only','or','other','ought','our','ours','ourselves','out','over','own','one',\n",
    "'same',\"shan't\",'she',\"she'd\",\"she'll\",\"she's\",'should',\"shouldn't\",'so','some','such','say','said','says',\n",
    "'than','that',\"that's\",\"the\",'their','theirs','them','themselves','then','there',\"there's\",\n",
    "'these','they',\"they'd\",\"they'll\",\"they're\",\"they've\",'this','those','through','to','too','t','two',\n",
    "'under','until','up','used','using','upon','ukrainian','ukraine',\n",
    "'very','various',\n",
    "'without','within','was',\"wasn't\",'we',\"we'd\",\"we'll\",\"we're\",\"we've\",'were','will',\n",
    "\"weren't\",'what',\"what's\",'when',\"when's\",'where',\"where's\",'which','while','who',\n",
    "\"who's\",'whom','why',\"why's\",'with',\"won't\",'would',\"wouldn't\",'will',\n",
    "'you',\"you'd\",\"you'll\",\"you're\",\"you've\",'your','yours','yourself','yourselves', \n",
    "'.','!',',','’','s','“','first','second','”','(',')','$']"
   ]
  },
  {
   "cell_type": "code",
   "execution_count": 6,
   "metadata": {},
   "outputs": [],
   "source": [
    "#Токенізація - групування слів\n",
    "#токенізатори бувають двох типів: токенізатор слів і токенізатор речень\n",
    "from nltk.tokenize import word_tokenize\n",
    "\n",
    "tokenized_array_1 = list(map(word_tokenize, articlesss_text))\n",
    "\n",
    "#переводимо текст у нижній регістр\n",
    "for i in range(len(tokenized_array_1)):\n",
    "    tokenized_array_1[i] = list(map(lambda a: a.lower(),tokenized_array_1[i]))\n",
    "\n",
    "#відкидаємо всі не-слова (коми, точки, числа тощо)\n",
    "for i in range(len(tokenized_array_1)):\n",
    "    tokenized_array_1[i] = list(filter(lambda a: a.isalpha(),tokenized_array_1[i]))"
   ]
  },
  {
   "cell_type": "code",
   "execution_count": 7,
   "metadata": {},
   "outputs": [],
   "source": [
    "#видаляємо з текстів шумові слова\n",
    "for word in STOP_WORDS_ARR:\n",
    "    for i in range(len(tokenized_array_1)):\n",
    "         tokenized_array_1[i] = list(filter(lambda a: a!=word, tokenized_array_1[i]))"
   ]
  },
  {
   "cell_type": "code",
   "execution_count": 8,
   "metadata": {},
   "outputs": [],
   "source": [
    "from nltk.stem.snowball import SnowballStemmer\n",
    "\n",
    "stemmer = SnowballStemmer(\"english\")\n",
    "\n",
    "for i in range(len(tokenized_array_1)):\n",
    "    tokenized_array_1[i] = list(map(lambda a: stemmer.stem(a),tokenized_array_1[i]))"
   ]
  },
  {
   "cell_type": "code",
   "execution_count": 9,
   "metadata": {},
   "outputs": [],
   "source": [
    "for sent in tokenized_array_1:\n",
    "    for word in sent:\n",
    "        if len(word)<=3:\n",
    "            sent.remove(word)"
   ]
  },
  {
   "cell_type": "code",
   "execution_count": 10,
   "metadata": {},
   "outputs": [
    {
     "name": "stdout",
     "output_type": "stream",
     "text": [
      "['washington', 'special', 'counsel', 'robert', 'mueller', 'brought', 'obstruct', 'charg', 'friday', 'presid', 'trump', 'former', 'campaign', 'chairman', 'paul', 'manafort', 'alleg', 'close', 'associ', 'prosecutor', 'suspect', 'intellig', 'stori']\n"
     ]
    }
   ],
   "source": [
    "print(tokenized_array_1[0])"
   ]
  },
  {
   "cell_type": "code",
   "execution_count": 11,
   "metadata": {
    "scrolled": true
   },
   "outputs": [],
   "source": [
    "from sklearn.feature_extraction.text import TfidfVectorizer\n",
    "from sklearn.cluster import KMeans\n",
    "from sklearn.metrics import adjusted_rand_score\n",
    "\n",
    "vectorizer = TfidfVectorizer(stop_words=STOP_WORDS_ARR,tokenizer=word_tokenize)\n",
    "X = vectorizer.fit_transform(articlesss_text)"
   ]
  },
  {
   "cell_type": "code",
   "execution_count": 12,
   "metadata": {},
   "outputs": [],
   "source": [
    "myarray = np.asarray(X)"
   ]
  },
  {
   "cell_type": "code",
   "execution_count": 26,
   "metadata": {
    "scrolled": false
   },
   "outputs": [
    {
     "name": "stdout",
     "output_type": "stream",
     "text": [
      "Cluster 0:\n",
      " iran\n",
      "Cluster 1:\n",
      " service\n",
      "Cluster 2:\n",
      " forces\n",
      "Cluster 3:\n",
      " champions\n",
      "Cluster 4:\n",
      " russia\n",
      "Cluster 5:\n",
      " putin\n",
      "Cluster 6:\n",
      " trump\n",
      "Cluster 7:\n",
      " sentsov\n",
      "Cluster 8:\n",
      " president\n",
      "Cluster 9:\n",
      " court\n",
      "Cluster 10:\n",
      " osce\n",
      "Cluster 11:\n",
      " crimean\n",
      "Cluster 12:\n",
      " nato\n",
      "Cluster 13:\n",
      " babchenko\n",
      "Cluster 14:\n",
      " sushchenko\n"
     ]
    }
   ],
   "source": [
    "K = 15\n",
    "model = KMeans(n_clusters=K, init='k-means++', max_iter=100, n_init=1)\n",
    "model.fit(X)\n",
    "\n",
    "order_centroids = model.cluster_centers_.argsort()[:, ::-1]\n",
    "terms = vectorizer.get_feature_names()\n",
    "for i in range(K):\n",
    "    print(\"Cluster %d:\" % i),\n",
    "    for ind in order_centroids[i, :1]:\n",
    "        print(' %s' % terms[ind])"
   ]
  },
  {
   "cell_type": "code",
   "execution_count": 27,
   "metadata": {},
   "outputs": [
    {
     "name": "stdout",
     "output_type": "stream",
     "text": [
      "[117, 340, 69, 68, 667, 48, 84, 74, 144, 86, 52, 70, 102, 74, 71]\n"
     ]
    }
   ],
   "source": [
    "# кол-во текстов в каждом кластере\n",
    "prediction_list = []\n",
    "for sent in articlesss_text:\n",
    "    Y = vectorizer.transform([sent])\n",
    "    prediction = model.predict(Y)\n",
    "    prediction_list.append(prediction[0])\n",
    "cluster_text_count = []\n",
    "for k in range(K):\n",
    "    cluster_text_count.append(prediction_list.count(k))\n",
    "print (cluster_text_count)\n"
   ]
  },
  {
   "cell_type": "code",
   "execution_count": 28,
   "metadata": {},
   "outputs": [
    {
     "data": {
      "text/plain": [
       "<matplotlib.axes._subplots.AxesSubplot at 0x2840767f080>"
      ]
     },
     "execution_count": 28,
     "metadata": {},
     "output_type": "execute_result"
    },
    {
     "data": {
      "image/png": "[encoded data removed]",
      "text/plain": [
       "<matplotlib.figure.Figure at 0x2840767f828>"
      ]
     },
     "metadata": {},
     "output_type": "display_data"
    }
   ],
   "source": [
    "# diagram\n",
    "import numpy as np\n",
    "import matplotlib.pyplot as plt\n",
    "import plotly.plotly as py\n",
    "\n",
    "s = pd.Series(cluster_text_count, index=range(K))\n",
    "s.plot(kind=\"bar\")"
   ]
  },
  {
   "cell_type": "code",
   "execution_count": 29,
   "metadata": {},
   "outputs": [],
   "source": [
    "cluster_texts = {}\n",
    "for k in range(K):\n",
    "    cluster_texts[k] = []\n",
    "text_count = 0\n",
    "for sent in articlesss_text:\n",
    "    Y = vectorizer.transform([sent])\n",
    "    prediction = model.predict(Y)\n",
    "    cluster_texts[prediction[0]].append(articles_names[text_count])\n",
    "    text_count+=1\n"
   ]
  },
  {
   "cell_type": "code",
   "execution_count": 31,
   "metadata": {
    "scrolled": false
   },
   "outputs": [
    {
     "data": {
      "text/plain": [
       "['Dodgy lists',\n",
       " 'For journalists in Ukraine, professional risks remain high',\n",
       " 'Ukrainian police place seven persons from ‘list of 47’ under protection',\n",
       " 'Anna Nemtsova: How that journalist’s faked murder exposed Russia’s gangsters and spies',\n",
       " 'Ukraine authorities claim to have Russia’s hit list of 47 Ukrainian journalists, bloggers',\n",
       " 'Guardian: Poroshenko backs faked murder of Russian journalist',\n",
       " 'RFE/RL: In Ukraine, prominent journalists targeted by ‘Russian hit list’ question its …',\n",
       " 'SBU: SBU didn’t give anyone list of 47 possible victims of Russian special services',\n",
       " 'Hromadske International: Babchenko’s ‘murder,’ Kolchenko’s hunger strike, Estonian …',\n",
       " 'Hanapolsky, Kiselev talk about security meeting for persons on Russia’s hitlist',\n",
       " 'Censor.net: Klimkin says numerous casualties prevented due to SBU operation involving …',\n",
       " 'Documentary investigation of journalist Sheremet murder receives award in Italy',\n",
       " 'Polygraph: Does Putin have any ‘private foundations’?',\n",
       " 'RFE/RL: Ukraine claims found list of 47 Russian assassination targets',\n",
       " 'Financial Times: Kyiv and Moscow trade blows over Babchenko ‘killing’',\n",
       " 'UNIAN: Chief prosecutor elaborates on Babchenko list with 47 potential victims',\n",
       " 'Alexei Bayer: What’s missing from the Babchenko story',\n",
       " 'Lutsenko: Babchenko’s murder plot provides investigation with list of 47 potential victims …',\n",
       " 'Babchenko ‘murder’ middleman claims Putin linked to alleged plot to kill journalist',\n",
       " 'Meduza: Spies, killer monks, and ‘Putin’s private foundation’ awhirl in journalist staged …',\n",
       " 'Deutsche Welle: Arkady Babchenko – The man who came back from the dead',\n",
       " 'UkrInform: Lutsenko, Hrytsak to inform G7 ambassadors about Babchenko case',\n",
       " 'RFE/RL: Ukraine arrests suspect in alleged Babchenko assassination plot',\n",
       " 'Lutsenko: Suspected organizer not saying who exactly ordered Babchenko’s murder',\n",
       " 'State Stunts: Faked murder draws fierce praise, criticism',\n",
       " 'Abuse of trust',\n",
       " '112.ua: Babchenko case – Suspect arrested for two months without right for bail',\n",
       " 'Leonid Bershidsky: Russian’s phony assassination undermines Ukraine’s credibility',\n",
       " 'Irish Times: Ukraine rejects criticism over staged murder of Russian journalist',\n",
       " 'Meduza: Kyiv says Russian intelligence tried to kill 30 people in Ukraine, and wow there …',\n",
       " 'Maxim Eristavi: Sorry, foreign media – Your anger at Ukraine faking a journalist’s death …',\n",
       " 'CNN: Babchenko says he faked his own death with pigs’ blood and a makeup artist',\n",
       " 'UNIAN: Babchenko’s ‘hitman’ turns to SBU on his own',\n",
       " 'Vox Populi with Yuliana Romanyshyn: Do you trust State Security Service more or less after …',\n",
       " 'Babchenko decides to become Ukrainian citizen',\n",
       " 'Halya Coynash: If Ukraine foiled a plan to kill Russian Kremlin critic Arkady Babchenko, …',\n",
       " 'EU ‘relieved’ that Babchenko is alive',\n",
       " 'Poroshenko on SBU’s special operation involving Babchenko: Russia is to blame, not …',\n",
       " 'Reuters: Ukraine defends ruse faking journalist’s murder, others criticize alarmist stunt',\n",
       " 'Poroshenko: Russian-masterminded attack on Babchenko aimed to destabilize Ukraine',\n",
       " 'Agence France-Presse: Ukraine under pressure after faking journalist’s death',\n",
       " 'Reuters: Kremlin calls staging of Russian journalist’s death in Kyiv strange',\n",
       " 'BBC: Arkady Babchenko – Ukraine condemned for faking journalist’s murder',\n",
       " 'Mogherini’s spokesperson: EU awaiting details on Babchenko case',\n",
       " 'Shaun Walker: For all its absurdity, the Babchenko stunt is no laughing matter',\n",
       " 'Reuters: Russia slams Ukraine’s staging reporter’s murder as `anti-Russian provocation’',\n",
       " 'OCCRP: Ukraine staged journalist’s murder, blames Russia for planning it',\n",
       " 'Associated Press: Journalist joins ranks of stranger-than-fiction faked deaths',\n",
       " 'New York Times: ‘Dead’ Russian journalist appears at a news conference in Ukraine',\n",
       " 'Leonid Bershidsky: Russian journalist lives to tell the tale of his murder',\n",
       " 'Associated Press: Russian journalist reported killed in Ukraine shows up alive',\n",
       " 'SBU chief: Journalist Babchenko’s murder ordered by Russian intelligence',\n",
       " 'Lutsenko: All roads of war and terrorism in Ukraine lead to Moscow',\n",
       " 'BBC: Arkady Babchenko – ‘Murdered’ Russian journalist is alive',\n",
       " 'Poroshenko orders 24-hour security for journalist Babchenko, his family',\n",
       " 'Bloomberg: Ukraine staged murder of Kremlin critic Arkady Babchenko',\n",
       " 'Babchenko: I became involved in SBU’s special operation month ago',\n",
       " 'Russian journalist Babchenko alive, says his faked ‘murder’ was sting to catch would-be …',\n",
       " '112.ua: Who is Arkadiy Babchenko?',\n",
       " 'PACE president calls on Ukrainian authorities to investigate murder of journalist …',\n",
       " 'EU: Best way to honor Babchenko is with transparent investigation',\n",
       " 'Associated Press: Russia offers Ukraine help in probing journalist’s murder',\n",
       " 'Euronews: Ukraine points finger at Moscow over journalist killing',\n",
       " 'UkrInform: Ukraine’s Information Policy Ministry says murder of Babchenko is onslaught on …',\n",
       " 'RFE/RL: Lavrov rejects any Russian role in Babchenko killing',\n",
       " 'UNIAN: Russian journalist Babchenko shot dead in Kyiv – All details',\n",
       " 'The Moscow Times: Russia, Ukraine react to death of slain journalist Arkady Babchenko',\n",
       " 'Reuters: Russia rejects Ukrainian allegation it behind journalist’s killing',\n",
       " 'UkrInform: Klimkin – Kremlin regime has always viewed Babchenko as enemy',\n",
       " 'Halya Coynash: Russia goes into propaganda drive over gunning down of Arkady Babchenko in …',\n",
       " 'BBC: Ukraine blames Russia for shooting of journalist Arkady Babchenko',\n",
       " 'UkrInform: OSCE calls on Ukraine to immediately investigate Babchenko’s murder',\n",
       " 'Guardian: Russian journalist and Kremlin critic Arkady Babchenko shot dead in Kyiv',\n",
       " 'Famous Russian journalist, Putin critic murdered in Kyiv']"
      ]
     },
     "execution_count": 31,
     "metadata": {},
     "output_type": "execute_result"
    }
   ],
   "source": [
    "cluster_texts[13]"
   ]
  },
  {
   "cell_type": "code",
   "execution_count": 3,
   "metadata": {},
   "outputs": [],
   "source": [
    "from collections import defaultdict"
   ]
  },
  {
   "cell_type": "code",
   "execution_count": 4,
   "metadata": {},
   "outputs": [],
   "source": [
    "def count_words_in_texts(tokenized_array):\n",
    "#\n",
    "    d=defaultdict(int) #инициализируем 0\n",
    "    for text in tokenized_array: \n",
    "        for word in text:\n",
    "            d[word]+=1 #ключ - слово, а value = \n",
    "    return d"
   ]
  },
  {
   "cell_type": "code",
   "execution_count": 18,
   "metadata": {},
   "outputs": [],
   "source": [
    "d=count_words_in_texts(tokenized_array_2)"
   ]
  },
  {
   "cell_type": "code",
   "execution_count": 19,
   "metadata": {},
   "outputs": [],
   "source": [
    "def calc_freequencier_words(d, count=50):\n",
    "    sorted_values = sorted(list(set(d.values())))[::-1] # 7-1 числа\n",
    "    words_lists_dict = defaultdict(list) #list - \n",
    "    for word, value in d.items(): #ідемо по словам з частотами\n",
    "        words_lists_dict[value].append(word) #result: массив частота - лист слов (например, {7} - {ukraininan})\n",
    "    freequencier_words = list()\n",
    "    for value in sorted_values:\n",
    "        freequencier_words += words_lists_dict[value] #добавляем слова, которые имеют значение валью\n",
    "    return freequencier_words[:count]"
   ]
  },
  {
   "cell_type": "code",
   "execution_count": 20,
   "metadata": {
    "scrolled": true
   },
   "outputs": [
    {
     "name": "stdout",
     "output_type": "stream",
     "text": [
      "ukrain: 3172\n",
      "kyiv: 1259\n",
      "russian: 1241\n",
      "russia: 1215\n",
      "state: 824\n",
      "year: 790\n",
      "report: 786\n",
      "presid: 722\n",
      "servic: 655\n",
      "accord: 624\n",
      "court: 623\n",
      "countri: 613\n",
      "peopl: 562\n",
      "nation: 552\n",
      "minist: 538\n",
      "compani: 538\n",
      "intern: 520\n",
      "new: 482\n",
      "foreign: 482\n",
      "time: 466\n",
      "work: 440\n",
      "secur: 428\n",
      "forc: 423\n",
      "use: 417\n",
      "can: 416\n",
      "june: 413\n",
      "govern: 413\n",
      "poroshenko: 409\n",
      "world: 408\n",
      "onli: 403\n",
      "includ: 401\n",
      "percent: 398\n",
      "law: 394\n",
      "region: 392\n",
      "investig: 384\n",
      "european: 381\n",
      "part: 378\n",
      "meet: 376\n",
      "polit: 371\n",
      "citi: 370\n",
      "offic: 368\n",
      "day: 366\n",
      "dure: 363\n",
      "journalist: 354\n",
      "press: 354\n",
      "ministri: 353\n",
      "case: 350\n",
      "develop: 347\n",
      "support: 343\n",
      "offici: 334\n"
     ]
    }
   ],
   "source": [
    "freequencier_words = calc_freequencier_words(d, count=50)\n",
    "for word in freequencier_words:\n",
    "    print(\"{}: {}\".format(word, d[word]))"
   ]
  },
  {
   "cell_type": "code",
   "execution_count": 21,
   "metadata": {},
   "outputs": [],
   "source": [
    "freequencier_words.sort(key = len,reverse = True)"
   ]
  },
  {
   "cell_type": "code",
   "execution_count": 22,
   "metadata": {},
   "outputs": [],
   "source": [
    "lst1 = [i for i in freequencier_words if len(i)<5]\n",
    "lst2 = [i for i in freequencier_words if len(i)>=5]"
   ]
  },
  {
   "cell_type": "code",
   "execution_count": 24,
   "metadata": {
    "scrolled": true
   },
   "outputs": [
    {
     "name": "stdout",
     "output_type": "stream",
     "text": [
      "poroshenko: 409\n",
      "journalist: 354\n",
      "investig: 384\n",
      "european: 381\n",
      "ministri: 353\n",
      "russian: 1241\n",
      "countri: 613\n",
      "compani: 538\n",
      "foreign: 482\n",
      "percent: 398\n",
      "develop: 347\n",
      "support: 343\n",
      "ukrain: 3172\n",
      "russia: 1215\n",
      "report: 786\n",
      "presid: 722\n",
      "servic: 655\n",
      "accord: 624\n",
      "nation: 552\n",
      "minist: 538\n",
      "intern: 520\n",
      "govern: 413\n",
      "includ: 401\n",
      "region: 392\n",
      "offici: 334\n",
      "state: 824\n",
      "court: 623\n",
      "peopl: 562\n",
      "secur: 428\n",
      "world: 408\n",
      "polit: 371\n",
      "offic: 368\n",
      "press: 354\n"
     ]
    }
   ],
   "source": [
    "for word in lst2:\n",
    "    print(\"{}: {}\".format(word, d[word]))"
   ]
  }
 ],
 "metadata": {
  "kernelspec": {
   "display_name": "Python 3",
   "language": "python",
   "name": "python3"
  },
  "language_info": {
   "codemirror_mode": {
    "name": "ipython",
    "version": 3
   },
   "file_extension": ".py",
   "mimetype": "text/x-python",
   "name": "python",
   "nbconvert_exporter": "python",
   "pygments_lexer": "ipython3",
   "version": "3.6.4"
  }
 },
 "nbformat": 4,
 "nbformat_minor": 2
}
